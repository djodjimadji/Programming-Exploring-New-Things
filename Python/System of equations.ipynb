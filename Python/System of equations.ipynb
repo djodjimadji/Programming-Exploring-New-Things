{
 "cells": [
  {
   "cell_type": "code",
   "execution_count": 7,
   "id": "parallel-thesis",
   "metadata": {},
   "outputs": [],
   "source": [
    "import numpy as np\n",
    "from scipy.optimize import fsolve\n",
    "import sympy as sym"
   ]
  },
  {
   "cell_type": "markdown",
   "id": "offshore-signal",
   "metadata": {},
   "source": [
    "$\\text{Exercise 2}$\n",
    "\n",
    "1. write a python code to solve the following linear equations\n",
    "\n",
    "\n",
    "\\begin{equation}\n",
    "  \\begin{cases}\n",
    "    x+y+z+w  = 13\\\\\n",
    "    2x+3y-w = -1\\\\\n",
    "    -3x+4y+z+2w  = 10\\\\\n",
    "    x+2y-z+w = 1\n",
    "  \\end{cases}.\n",
    "\\end{equation}"
   ]
  },
  {
   "cell_type": "code",
   "execution_count": 3,
   "id": "painted-treasurer",
   "metadata": {},
   "outputs": [
    {
     "data": {
      "text/plain": [
       "array([2., 0., 6., 5.])"
      ]
     },
     "execution_count": 3,
     "metadata": {},
     "output_type": "execute_result"
    }
   ],
   "source": [
    "A=np.array([[1,1,1,1],[2,3,0,-1],[-3,4,1,2],[1,2,-1,1]])\n",
    "b=np.array([13,-1,10,1])\n",
    "# First possibility\n",
    "# print(\"Solution = \",np.round(np.linalg.inv(A)@b,0))\n",
    "# Second possibility\n",
    "np.round(np.linalg.solve(A,b))"
   ]
  },
  {
   "cell_type": "markdown",
   "id": "sorted-stockholm",
   "metadata": {},
   "source": [
    "2. write a python code to solve the following nonlinear equations\n",
    "\\begin{equation}\n",
    "\\begin{cases}\n",
    "    x^2 + y + x = 2\\\\\n",
    "    2e^x + 3y = 8\n",
    "\\end{cases}\n",
    "\\end{equation}"
   ]
  },
  {
   "cell_type": "code",
   "execution_count": 6,
   "id": "relative-cowboy",
   "metadata": {},
   "outputs": [
    {
     "data": {
      "text/plain": [
       "array([0., 2.])"
      ]
     },
     "execution_count": 6,
     "metadata": {},
     "output_type": "execute_result"
    }
   ],
   "source": [
    "\n",
    "def myfunction(z):\n",
    "    x,y=z[0],z[1]\n",
    "    F=np.zeros(2)\n",
    "    F[0]=x**2+y+x-2\n",
    "    F[1]=2*np.exp(x)+3*y-8\n",
    "    return F\n",
    "ZGuess=np.array([1,0])\n",
    "np.round(fsolve(myfunction,ZGuess),0)"
   ]
  },
  {
   "cell_type": "markdown",
   "id": "electoral-overview",
   "metadata": {},
   "source": [
    "#### c. system of equations - symbolic solution\n",
    "\n",
    "write a python code to solve the following nonlinear equations (Symbolic Solution)\n",
    "\\begin{equation}\n",
    "  \\begin{cases}\n",
    "    2x^2 + y +z = 1\\\\\n",
    "    x + 2y +z = c_1\\\\\n",
    "    -2x + y = -z\n",
    "  \\end{cases}.\n",
    "\\end{equation}"
   ]
  },
  {
   "cell_type": "code",
   "execution_count": 8,
   "id": "consolidated-paradise",
   "metadata": {},
   "outputs": [
    {
     "data": {
      "image/png": "[encoded data removed]",
      "text/latex": [
       "$\\displaystyle \\left[ \\left( - \\frac{1}{2} + \\frac{\\sqrt{3}}{2}, \\  c_{1} - \\frac{3 \\sqrt{3}}{2} + \\frac{3}{2}, \\  - c_{1} - \\frac{5}{2} + \\frac{5 \\sqrt{3}}{2}\\right), \\  \\left( - \\frac{\\sqrt{3}}{2} - \\frac{1}{2}, \\  c_{1} + \\frac{3}{2} + \\frac{3 \\sqrt{3}}{2}, \\  - c_{1} - \\frac{5 \\sqrt{3}}{2} - \\frac{5}{2}\\right)\\right]$"
      ],
      "text/plain": [
       "⎡⎛  1   √3       3⋅√3   3        5   5⋅√3⎞  ⎛  √3   1       3   3⋅√3        5⋅\n",
       "⎢⎜- ─ + ──, c₁ - ──── + ─, -c₁ - ─ + ────⎟, ⎜- ── - ─, c₁ + ─ + ────, -c₁ - ──\n",
       "⎣⎝  2   2         2     2        2    2  ⎠  ⎝  2    2       2    2           2\n",
       "\n",
       "√3   5⎞⎤\n",
       "── - ─⎟⎥\n",
       "     2⎠⎦"
      ]
     },
     "execution_count": 8,
     "metadata": {},
     "output_type": "execute_result"
    }
   ],
   "source": [
    "sym.init_printing()\n",
    "\n",
    "x,y,z = sym.symbols('x,y,z')\n",
    "\n",
    "c1 = sym.Symbol('c1')\n",
    "\n",
    "f = sym.Eq(2*x**2+y+z,1)\n",
    "g = sym.Eq(x+2*y+z,c1)\n",
    "h = sym.Eq(-2*x+y,-z)\n",
    "\n",
    "sym.solve([f,g,h],(x,y,z))"
   ]
  },
  {
   "cell_type": "code",
   "execution_count": null,
   "id": "bizarre-newark",
   "metadata": {},
   "outputs": [],
   "source": []
  }
 ],
 "metadata": {
  "kernelspec": {
   "display_name": "Python 3",
   "language": "python",
   "name": "python3"
  },
  "language_info": {
   "codemirror_mode": {
    "name": "ipython",
    "version": 3
   },
   "file_extension": ".py",
   "mimetype": "text/x-python",
   "name": "python",
   "nbconvert_exporter": "python",
   "pygments_lexer": "ipython3",
   "version": "3.9.2"
  }
 },
 "nbformat": 4,
 "nbformat_minor": 5
}
