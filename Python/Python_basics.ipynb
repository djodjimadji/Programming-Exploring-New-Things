{
 "cells": [
  {
   "attachments": {},
   "cell_type": "markdown",
   "metadata": {},
   "source": [
    "<b>Exercise 1</b>\n",
    "\n",
    "1. Write an algorithm that asks the user for a positive integer $k$,  and compute and displays the value of $k+kk+kkk$. Translate into python code."
   ]
  },
  {
   "cell_type": "code",
   "execution_count": 6,
   "metadata": {},
   "outputs": [
    {
     "name": "stdout",
     "output_type": "stream",
     "text": [
      "k+kk+kkk = 153045\n"
     ]
    }
   ],
   "source": [
    "k = input(\"Enter a number\")\n",
    "kk = k + k\n",
    "kkk = k + k + k\n",
    "out = int(k)+int(kk)+ int(kkk)\n",
    "print(\"k+kk+kkk =\",out)"
   ]
  },
  {
   "attachments": {},
   "cell_type": "markdown",
   "metadata": {},
   "source": [
    "2. Write an algorithm that asks the user for a positive integer $k$ and $n$,  and compute and displays the value of $k+kk+kkk + kkkk+ ...+ kk...k$, the last term $kk...k$ has a length $n$. Translate into python code."
   ]
  },
  {
   "cell_type": "code",
   "execution_count": 7,
   "metadata": {},
   "outputs": [
    {
     "name": "stdout",
     "output_type": "stream",
     "text": [
      "k+kk+kkk + kkkk+ ...+ kk...k = 20406081012141618200\n"
     ]
    }
   ],
   "source": [
    "k = input(\"Enter the value of k : \")\n",
    "n = int(input(\"Enter the value of n : \"))\n",
    "\n",
    "out = int(k)\n",
    "temp = k\n",
    "for i in range(1,n):\n",
    "    temp += k\n",
    "    out += int(temp)\n",
    "print(\"k+kk+kkk + kkkk+ ...+ kk...k =\", out)"
   ]
  },
  {
   "attachments": {},
   "cell_type": "markdown",
   "metadata": {},
   "source": [
    "3.  Write a Python code that calculates and displays the sum of the digits in an integer given by a user."
   ]
  },
  {
   "cell_type": "code",
   "execution_count": 11,
   "metadata": {},
   "outputs": [
    {
     "name": "stdout",
     "output_type": "stream",
     "text": [
      "Result = 10\n"
     ]
    }
   ],
   "source": [
    "integer = int(input(\"Enter the value of the integer\"))\n",
    "char = str(integer)\n",
    "out = 0\n",
    "for i in char:\n",
    "    out += int(i)\n",
    "\n",
    "print(f\"Result = {out}\")\n"
   ]
  },
  {
   "attachments": {},
   "cell_type": "markdown",
   "metadata": {},
   "source": [
    "4. Write a Python program to count the number of characters (character frequency) in a word enter by a user. For example,if the user enter the word <font color = red> google  </font> the output should be <font color = red> {'g': 2, 'o': 2, 'l': 1, 'e': 1} </font>"
   ]
  },
  {
   "cell_type": "code",
   "execution_count": 17,
   "metadata": {},
   "outputs": [
    {
     "name": "stdout",
     "output_type": "stream",
     "text": [
      "{'e': 1, 'o': 2, 'l': 1, 'g': 2}\n"
     ]
    }
   ],
   "source": [
    "out = {}\n",
    "word =input(\"Enter a word :\")\n",
    "inp = word.lower()\n",
    "ind_char = set(inp)\n",
    "for char in ind_char:\n",
    "    out[char] = inp.count(char)\n",
    "print(out)"
   ]
  },
  {
   "attachments": {},
   "cell_type": "markdown",
   "metadata": {},
   "source": [
    "5. Based on function inside a function, Write a Python code that\n",
    "- Prompt the use for an item price (using a function)\n",
    "- Apply a 20% discount to the price (using a function)\n",
    "- Print the starting price and the discounted price\n",
    "- Don’t accept price values less than 0.05 USD – repeatedly ask the user to enter new data if this happens\n",
    "- Repeat the discounting process until the user elects to stop entering data"
   ]
  },
  {
   "cell_type": "code",
   "execution_count": 18,
   "metadata": {},
   "outputs": [
    {
     "name": "stdout",
     "output_type": "stream",
     "text": [
      "The starting price and the discounted price are respectively :  (10, 2.0)\n"
     ]
    }
   ],
   "source": [
    "def Prompt():\n",
    "    return eval(input(\"Enter a valid price of the item : \"))\n",
    "\n",
    "def Discount():\n",
    "    x=Prompt()\n",
    "    return x, x*0.2\n",
    "\n",
    "\n",
    "def Display():\n",
    "    print(\"The starting price and the discounted price are respectively : \",Discount())\n",
    "\n",
    "Display()\n",
    "\n",
    "def Repeat():\n",
    "    while Prompt()<0.05:\n",
    "        Prompt() \n",
    "\n",
    "Repeat()"
   ]
  },
  {
   "attachments": {},
   "cell_type": "markdown",
   "metadata": {},
   "source": [
    "6. Write a function that accepts a restaurant check and a tip (%), print out the tip that should be left on the table as well as the total bill, however, if the tip is less than 15% you should tell the user that they might want to leave a little more on the table."
   ]
  },
  {
   "cell_type": "code",
   "execution_count": 19,
   "metadata": {},
   "outputs": [],
   "source": [
    "def Accepts(price, tip):\n",
    "    price=eval(input(\"Enter the value of the meal : \"))\n",
    "    tip=lambda :eval(input(\"Enter the value of the tip : \"))\n",
    "    t=tip()\n",
    "    while t<0.15:\n",
    "        \n",
    "        tip=eval(\"You should leave a little more on the table, enter another value of tip :\")\n",
    "    return price, tip"
   ]
  },
  {
   "cell_type": "code",
   "execution_count": null,
   "metadata": {},
   "outputs": [],
   "source": []
  }
 ],
 "metadata": {
  "kernelspec": {
   "display_name": "Python 3",
   "language": "python",
   "name": "python3"
  },
  "language_info": {
   "codemirror_mode": {
    "name": "ipython",
    "version": 3
   },
   "file_extension": ".py",
   "mimetype": "text/x-python",
   "name": "python",
   "nbconvert_exporter": "python",
   "pygments_lexer": "ipython3",
   "version": "3.10.6"
  },
  "orig_nbformat": 4
 },
 "nbformat": 4,
 "nbformat_minor": 2
}
